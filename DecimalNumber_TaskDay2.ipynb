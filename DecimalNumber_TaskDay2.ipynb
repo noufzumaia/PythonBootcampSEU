{
 "cells": [
  {
   "cell_type": "code",
   "execution_count": 3,
   "metadata": {},
   "outputs": [
    {
     "name": "stdout",
     "output_type": "stream",
     "text": [
      "please Enter any number 1:6.5\n",
      "please Enter any number 2:3.5\n",
      "10.0\n"
     ]
    }
   ],
   "source": [
    "num1 = float(input(\"Please Enter any number 1:\"))\n",
    "num2 = float(input(\"Please Enter any number 2:\"))\n",
    "\n",
    "print (num1 + num2)"
   ]
  },
  {
   "cell_type": "code",
   "execution_count": null,
   "metadata": {},
   "outputs": [],
   "source": []
  }
 ],
 "metadata": {
  "kernelspec": {
   "display_name": "Python 3",
   "language": "python",
   "name": "python3"
  },
  "language_info": {
   "codemirror_mode": {
    "name": "ipython",
    "version": 3
   },
   "file_extension": ".py",
   "mimetype": "text/x-python",
   "name": "python",
   "nbconvert_exporter": "python",
   "pygments_lexer": "ipython3",
   "version": "3.8.5"
  }
 },
 "nbformat": 4,
 "nbformat_minor": 4
}
