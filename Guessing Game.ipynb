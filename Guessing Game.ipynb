{
 "cells": [
  {
   "cell_type": "code",
   "execution_count": 1,
   "metadata": {},
   "outputs": [
    {
     "name": "stdout",
     "output_type": "stream",
     "text": [
      "Here is a guessing game!\n",
      "how many trial you want the range is between 1-5?3\n",
      "your trials are 3\n",
      "Enter your guess between 1-50: 27\n",
      "Your guess is too high!\n",
      "Try again, your new guess: 15\n",
      "1 you have trials left: \n",
      "Your guess is too low!\n",
      "Try again, your new guess: 20\n",
      "0 you have trials left: \n",
      "Game over :( \n"
     ]
    }
   ],
   "source": [
    "import random\n",
    "\n",
    "print(\"welcome to the guessing game!\")\n",
    "\n",
    "answer = random.randint(0,51) \n",
    "trials = int(input(\"how many trial you want the range is between 1-5?\"))\n",
    "if trials in range(1,5):\n",
    "    print (\"your trials are {}\".format(trials))\n",
    "else:\n",
    "    trials =random.randrang(1,5)\n",
    "    print (\"your trials are {}\".format(trials))\n",
    "                            \n",
    "    \n",
    "answer = random.randint(0,51)\n",
    "guess = int(input(\"Enter your guess between 1-50: \"))\n",
    "counter = 1\n",
    "\n",
    "while guess != answer and counter<trials:\n",
    "    \n",
    "    if guess < answer:\n",
    "        print('Your guess is too low!')\n",
    "    else:\n",
    "        print('Your guess is too high!')\n",
    "        \n",
    "    guess= int(input(\"Try again, your new guess: \"))\n",
    "    counter= counter +1\n",
    "    print ( trials - counter ,\"you have trials left: \")\n",
    "                      \n",
    "if guess == answer:\n",
    "    print (\"correct \")\n",
    "else:\n",
    "    print (\"Game over :( \")"
   ]
  },
  {
   "cell_type": "code",
   "execution_count": null,
   "metadata": {},
   "outputs": [],
   "source": []
  }
 ],
 "metadata": {
  "kernelspec": {
   "display_name": "Python 3",
   "language": "python",
   "name": "python3"
  },
  "language_info": {
   "codemirror_mode": {
    "name": "ipython",
    "version": 3
   },
   "file_extension": ".py",
   "mimetype": "text/x-python",
   "name": "python",
   "nbconvert_exporter": "python",
   "pygments_lexer": "ipython3",
   "version": "3.8.5"
  }
 },
 "nbformat": 4,
 "nbformat_minor": 4
}
